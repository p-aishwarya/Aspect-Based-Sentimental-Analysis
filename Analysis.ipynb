{
 "cells": [
  {
   "cell_type": "code",
   "execution_count": 2,
   "id": "c6e21778",
   "metadata": {},
   "outputs": [],
   "source": [
    "import re\n",
    "from nltk.corpus import wordnet as wn\n",
    "\n",
    "class Aspect:\n",
    "    def num_of_aspects(self,num):\n",
    "        #Number of aspects from user!\n",
    "        aspects_list = []\n",
    "        for i in range(num):\n",
    "            aspects_list.append(input())\n",
    "        return aspects_list\n",
    "    \n",
    "    def hyponyms(self,aspect):\n",
    "        hypernyms = []\n",
    "        relative = wn.synsets(aspect, 'n')[0]\n",
    "        hypos = lambda s:s.hyponyms()\n",
    "        key = list(relative.closure(hypos))\n",
    "        for i in key:\n",
    "            z = str(i)\n",
    "            z = z.split('(')[1]\n",
    "            mystring = re.sub(\"'\", \"\", z)\n",
    "            mystring = mystring.split('.')[0]\n",
    "            hypernyms.append(mystring)\n",
    "        return hypernyms\n",
    "    \n",
    "    \n",
    "    "
   ]
  },
  {
   "cell_type": "code",
   "execution_count": null,
   "id": "c7fbc151",
   "metadata": {},
   "outputs": [],
   "source": []
  }
 ],
 "metadata": {
  "kernelspec": {
   "display_name": "Python 3 (ipykernel)",
   "language": "python",
   "name": "python3"
  },
  "language_info": {
   "codemirror_mode": {
    "name": "ipython",
    "version": 3
   },
   "file_extension": ".py",
   "mimetype": "text/x-python",
   "name": "python",
   "nbconvert_exporter": "python",
   "pygments_lexer": "ipython3",
   "version": "3.9.7"
  }
 },
 "nbformat": 4,
 "nbformat_minor": 5
}
