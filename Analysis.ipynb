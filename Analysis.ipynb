{
 "cells": [
  {
   "cell_type": "code",
   "execution_count": 1,
   "id": "2ba5fd0f",
   "metadata": {},
   "outputs": [
    {
     "name": "stdout",
     "output_type": "stream",
     "text": [
      "Collecting nltk\n",
      "  Using cached nltk-3.7-py3-none-any.whl (1.5 MB)\n",
      "Collecting regex>=2021.8.3\n",
      "  Using cached regex-2022.3.15-cp38-cp38-win_amd64.whl (274 kB)\n",
      "Collecting joblib\n",
      "  Using cached joblib-1.1.0-py2.py3-none-any.whl (306 kB)\n",
      "Requirement already satisfied: click in c:\\users\\aishwarya\\anaconda3\\envs\\absa\\lib\\site-packages (from nltk) (8.0.4)\n",
      "Requirement already satisfied: tqdm in c:\\users\\aishwarya\\anaconda3\\envs\\absa\\lib\\site-packages (from nltk) (4.64.0)\n",
      "Requirement already satisfied: colorama; platform_system == \"Windows\" in c:\\users\\aishwarya\\appdata\\roaming\\python\\python38\\site-packages (from click->nltk) (0.4.4)\n",
      "Installing collected packages: regex, joblib, nltk\n",
      "Successfully installed joblib-1.1.0 nltk-3.7 regex-2022.3.15\n",
      "Note: you may need to restart the kernel to use updated packages.\n"
     ]
    }
   ],
   "source": [
    "pip install nltk"
   ]
  },
  {
   "cell_type": "code",
   "execution_count": 2,
   "id": "8a5a9acb",
   "metadata": {},
   "outputs": [],
   "source": [
    "#This is to get the hyponyms of the seed words provided. Generally, we will get the hyponyms in the format of -\n",
    "#for example - Synset('airliner.n.01'). We will just be extracting the required part which is 'airliner' by removing all the\n",
    "#unnecessary data using regular expression and add all the hyponyms of that seed word into a list.\n",
    "\n",
    "import re\n",
    "from nltk.corpus import wordnet as wn\n",
    "\n",
    "class Aspect:  \n",
    "    def hyponyms(self,aspect):\n",
    "        hypernyms = []\n",
    "        relative = wn.synsets(aspect, 'n')[0]\n",
    "        hypos = lambda s:s.hyponyms()\n",
    "        key = list(relative.closure(hypos))\n",
    "        for i in key:\n",
    "            z = str(i)\n",
    "            z = z.split('(')[1]\n",
    "            mystring = re.sub(\"'\", \"\", z)\n",
    "            mystring = mystring.split('.')[0]\n",
    "            hypernyms.append(mystring)\n",
    "        return hypernyms\n",
    "    \n",
    "    \n",
    "    "
   ]
  },
  {
   "cell_type": "code",
   "execution_count": null,
   "id": "4d26a7ee",
   "metadata": {},
   "outputs": [],
   "source": []
  },
  {
   "cell_type": "code",
   "execution_count": null,
   "id": "0a555763",
   "metadata": {},
   "outputs": [],
   "source": []
  }
 ],
 "metadata": {
  "kernelspec": {
   "display_name": "Python [conda env:absa]",
   "language": "python",
   "name": "conda-env-absa-py"
  },
  "language_info": {
   "codemirror_mode": {
    "name": "ipython",
    "version": 3
   },
   "file_extension": ".py",
   "mimetype": "text/x-python",
   "name": "python",
   "nbconvert_exporter": "python",
   "pygments_lexer": "ipython3",
   "version": "3.8.5"
  }
 },
 "nbformat": 4,
 "nbformat_minor": 5
}
