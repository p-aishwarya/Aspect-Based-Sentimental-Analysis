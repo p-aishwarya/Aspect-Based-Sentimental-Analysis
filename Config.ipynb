{
 "cells": [
  {
   "cell_type": "code",
   "execution_count": 9,
   "id": "10e58361",
   "metadata": {},
   "outputs": [],
   "source": [
    "from configparser import ConfigParser\n",
    "#Get the configparser object\n",
    "config_object = ConfigParser()\n",
    "\n",
    "\n",
    "config_object['Data'] = {\n",
    "    'data': 'Restaurant_review.txt',\n",
    "    'positive_words':'PositiveWords.txt',\n",
    "    'negative_words':'NegativeWords.txt'\n",
    "    }\n",
    "\n",
    "config_object['Preprocessing'] ={'lower_case': True,\n",
    "    'remove_numeric':True,\n",
    "    'numeric_to_word':False,\n",
    "    'remove_puntuation':True,\n",
    "    'remove_sentence_split_delimeters':True,\n",
    "    'remove_text_in_brackets': True,\n",
    "    'remove_links':True,\n",
    "    'negation_handling':True,\n",
    "    'remove_whitespace':True,\n",
    "    'lemmatization':False}\n",
    "\n",
    "config_object['PositiveNegative'] ={'lower_case': True,\n",
    "    'remove_numeric':False,\n",
    "    'numeric_to_word':False,\n",
    "    'remove_puntuation':False,\n",
    "    'remove_sentence_split_delimeters':True,\n",
    "    'remove_text_in_brackets': True,\n",
    "    'remove_links':True,\n",
    "    'negation_handling':True,\n",
    "    'remove_whitespace':False,\n",
    "    'lemmatization':False}\n",
    "\n",
    "#Write the above sections to preprocessing.ini file\n",
    "with open('Config.ini', 'w') as conf:\n",
    "    config_object.write(conf)\n"
   ]
  },
  {
   "cell_type": "code",
   "execution_count": null,
   "id": "96a3dff5",
   "metadata": {},
   "outputs": [],
   "source": []
  }
 ],
 "metadata": {
  "kernelspec": {
   "display_name": "Python 3 (ipykernel)",
   "language": "python",
   "name": "python3"
  },
  "language_info": {
   "codemirror_mode": {
    "name": "ipython",
    "version": 3
   },
   "file_extension": ".py",
   "mimetype": "text/x-python",
   "name": "python",
   "nbconvert_exporter": "python",
   "pygments_lexer": "ipython3",
   "version": "3.9.7"
  }
 },
 "nbformat": 4,
 "nbformat_minor": 5
}
